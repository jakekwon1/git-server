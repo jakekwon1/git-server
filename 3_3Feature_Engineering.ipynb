{
  "nbformat": 4,
  "nbformat_minor": 0,
  "metadata": {
    "colab": {
      "provenance": [],
      "authorship_tag": "ABX9TyPgTv/zO76Eu9ua26hJbdja",
      "include_colab_link": true
    },
    "kernelspec": {
      "name": "python3",
      "display_name": "Python 3"
    },
    "language_info": {
      "name": "python"
    }
  },
  "cells": [
    {
      "cell_type": "markdown",
      "metadata": {
        "id": "view-in-github",
        "colab_type": "text"
      },
      "source": [
        "<a href=\"https://colab.research.google.com/github/jakekwon1/git-server/blob/main/3_3Feature_Engineering.ipynb\" target=\"_parent\"><img src=\"https://colab.research.google.com/assets/colab-badge.svg\" alt=\"Open In Colab\"/></a>"
      ]
    },
    {
      "cell_type": "code",
      "execution_count": 1,
      "metadata": {
        "colab": {
          "base_uri": "https://localhost:8080/"
        },
        "id": "BGtbmCuD02j7",
        "outputId": "90699b64-186e-4b01-e17b-64b3d449dbea"
      },
      "outputs": [
        {
          "output_type": "stream",
          "name": "stdout",
          "text": [
            "[[ 8.4   2.11  1.41]\n",
            " [13.7   3.53  2.  ]\n",
            " [15.    3.82  2.43]\n",
            " [16.2   4.59  2.63]\n",
            " [17.4   4.59  2.94]\n",
            " [18.    5.22  3.32]\n",
            " [18.7   5.2   3.12]\n",
            " [19.    5.64  3.05]\n",
            " [19.6   5.14  3.04]\n",
            " [20.    5.08  2.77]\n",
            " [21.    5.69  3.56]\n",
            " [21.    5.92  3.31]\n",
            " [21.    5.69  3.67]\n",
            " [21.3   6.38  3.53]\n",
            " [22.    6.11  3.41]\n",
            " [22.    5.64  3.52]\n",
            " [22.    6.11  3.52]\n",
            " [22.    5.88  3.52]\n",
            " [22.    5.52  4.  ]\n",
            " [22.5   5.86  3.62]\n",
            " [22.5   6.79  3.62]\n",
            " [22.7   5.95  3.63]\n",
            " [23.    5.22  3.63]\n",
            " [23.5   6.28  3.72]\n",
            " [24.    7.29  3.72]\n",
            " [24.    6.38  3.82]\n",
            " [24.6   6.73  4.17]\n",
            " [25.    6.44  3.68]\n",
            " [25.6   6.56  4.24]\n",
            " [26.5   7.17  4.14]\n",
            " [27.3   8.32  5.14]\n",
            " [27.5   7.17  4.34]\n",
            " [27.5   7.05  4.34]\n",
            " [27.5   7.28  4.57]\n",
            " [28.    7.82  4.2 ]\n",
            " [28.7   7.59  4.64]\n",
            " [30.    7.62  4.77]\n",
            " [32.8  10.03  6.02]\n",
            " [34.5  10.26  6.39]\n",
            " [35.   11.49  7.8 ]\n",
            " [36.5  10.88  6.86]\n",
            " [36.   10.61  6.74]\n",
            " [37.   10.84  6.26]\n",
            " [37.   10.57  6.37]\n",
            " [39.   11.14  7.49]\n",
            " [39.   11.14  6.  ]\n",
            " [39.   12.43  7.35]\n",
            " [40.   11.93  7.11]\n",
            " [40.   11.73  7.22]\n",
            " [40.   12.38  7.46]\n",
            " [40.   11.14  6.63]\n",
            " [42.   12.8   6.87]\n",
            " [43.   11.93  7.28]\n",
            " [43.   12.51  7.42]\n",
            " [43.5  12.6   8.14]\n",
            " [44.   12.49  7.6 ]]\n"
          ]
        }
      ],
      "source": [
        "import pandas as pd\n",
        "df=pd.read_csv('https://bit.ly/perch_csv')\n",
        "perch_full = df.to_numpy()\n",
        "print(perch_full)"
      ]
    },
    {
      "cell_type": "code",
      "source": [
        "import numpy as np\n",
        "perch_weight = np.array([5.9, 32.0, 40.0, 51.5, 70.0, 100.0, 78.0, 80.0, 85.0, 85.0, 110.0,\n",
        "       115.0, 125.0, 130.0, 120.0, 120.0, 130.0, 135.0, 110.0, 130.0,\n",
        "       150.0, 145.0, 150.0, 170.0, 225.0, 145.0, 188.0, 180.0, 197.0,\n",
        "       218.0, 300.0, 260.0, 265.0, 250.0, 250.0, 300.0, 320.0, 514.0,\n",
        "       556.0, 840.0, 685.0, 700.0, 700.0, 690.0, 900.0, 650.0, 820.0,\n",
        "       850.0, 900.0, 1015.0, 820.0, 1100.0, 1000.0, 1100.0, 1000.0,\n",
        "       1000.0])\n",
        "\n",
        "from sklearn.model_selection import train_test_split\n",
        "train_input, test_input, train_target, test_target= train_test_split(perch_full,perch_weight,random_state=42)"
      ],
      "metadata": {
        "id": "ul_GP8318dbs"
      },
      "execution_count": 2,
      "outputs": []
    },
    {
      "cell_type": "code",
      "source": [
        "from sklearn.preprocessing import PolynomialFeatures\n",
        "\n",
        "#degree=2 이 기본\n",
        "poly = PolynomialFeatures(include_bias=False)  # False 로 1 출력 삭제\n",
        "poly.fit([[2,3,4]])\n",
        "\n",
        "#1(bias), 2, 3, 2**2, 2*3, 3**2  # (x,y)= x**0 * y**0, x**1 * y**0*, x**0 * y**1, x**2 * y**0, x**1 * y**1, x**0 * y**2 로 출력\n",
        "print(poly.transform([[2,3,4]]))  # transform 을 사용하여 fit을 학습(?) fir_transform 으로 가능\n"
      ],
      "metadata": {
        "colab": {
          "base_uri": "https://localhost:8080/"
        },
        "id": "suKhHFXS9BK-",
        "outputId": "0377a554-3ff7-4ad4-f2f3-2d54aad4ed2d"
      },
      "execution_count": 3,
      "outputs": [
        {
          "output_type": "stream",
          "name": "stdout",
          "text": [
            "[[ 2.  3.  4.  4.  6.  8.  9. 12. 16.]]\n"
          ]
        }
      ]
    },
    {
      "cell_type": "code",
      "source": [
        "poly = PolynomialFeatures(include_bias=False)\n",
        "poly.fit(train_input)\n",
        "train_poly = poly.transform(train_input)\n",
        "#train_poly = poly.fit_transform(train_input)\n",
        "#print(train_poly.shape)\n",
        "print(train_poly)"
      ],
      "metadata": {
        "colab": {
          "base_uri": "https://localhost:8080/"
        },
        "id": "TOrVsK9EDIkC",
        "outputId": "0f518e5f-f0d5-465a-b380-be637ddb283b"
      },
      "execution_count": 4,
      "outputs": [
        {
          "output_type": "stream",
          "name": "stdout",
          "text": [
            "[[  19.6       5.14      3.04    384.16    100.744    59.584    26.4196\n",
            "    15.6256    9.2416]\n",
            " [  22.        5.88      3.52    484.      129.36     77.44     34.5744\n",
            "    20.6976   12.3904]\n",
            " [  18.7       5.2       3.12    349.69     97.24     58.344    27.04\n",
            "    16.224     9.7344]\n",
            " [  17.4       4.59      2.94    302.76     79.866    51.156    21.0681\n",
            "    13.4946    8.6436]\n",
            " [  36.       10.61      6.74   1296.      381.96    242.64    112.5721\n",
            "    71.5114   45.4276]\n",
            " [  25.        6.44      3.68    625.      161.       92.       41.4736\n",
            "    23.6992   13.5424]\n",
            " [  40.       11.93      7.11   1600.      477.2     284.4     142.3249\n",
            "    84.8223   50.5521]\n",
            " [  39.       12.43      7.35   1521.      484.77    286.65    154.5049\n",
            "    91.3605   54.0225]\n",
            " [  43.       11.93      7.28   1849.      512.99    313.04    142.3249\n",
            "    86.8504   52.9984]\n",
            " [  22.        5.64      3.52    484.      124.08     77.44     31.8096\n",
            "    19.8528   12.3904]\n",
            " [  20.        5.08      2.77    400.      101.6      55.4      25.8064\n",
            "    14.0716    7.6729]\n",
            " [  22.        6.11      3.52    484.      134.42     77.44     37.3321\n",
            "    21.5072   12.3904]\n",
            " [  24.        7.29      3.72    576.      174.96     89.28     53.1441\n",
            "    27.1188   13.8384]\n",
            " [  27.5       7.17      4.34    756.25    197.175   119.35     51.4089\n",
            "    31.1178   18.8356]\n",
            " [  43.       12.51      7.42   1849.      537.93    319.06    156.5001\n",
            "    92.8242   55.0564]\n",
            " [  40.       11.73      7.22   1600.      469.2     288.8     137.5929\n",
            "    84.6906   52.1284]\n",
            " [  24.        6.38      3.82    576.      153.12     91.68     40.7044\n",
            "    24.3716   14.5924]\n",
            " [  21.        5.92      3.31    441.      124.32     69.51     35.0464\n",
            "    19.5952   10.9561]\n",
            " [  27.5       7.05      4.34    756.25    193.875   119.35     49.7025\n",
            "    30.597    18.8356]\n",
            " [  40.       12.38      7.46   1600.      495.2     298.4     153.2644\n",
            "    92.3548   55.6516]\n",
            " [  32.8      10.03      6.02   1075.84    328.984   197.456   100.6009\n",
            "    60.3806   36.2404]\n",
            " [  26.5       7.17      4.14    702.25    190.005   109.71     51.4089\n",
            "    29.6838   17.1396]\n",
            " [  36.5      10.88      6.86   1332.25    397.12    250.39    118.3744\n",
            "    74.6368   47.0596]\n",
            " [  13.7       3.53      2.      187.69     48.361    27.4      12.4609\n",
            "     7.06      4.    ]\n",
            " [  22.7       5.95      3.63    515.29    135.065    82.401    35.4025\n",
            "    21.5985   13.1769]\n",
            " [  15.        3.82      2.43    225.       57.3      36.45     14.5924\n",
            "     9.2826    5.9049]\n",
            " [  37.       10.57      6.37   1369.      391.09    235.69    111.7249\n",
            "    67.3309   40.5769]\n",
            " [  35.       11.49      7.8    1225.      402.15    273.      132.0201\n",
            "    89.622    60.84  ]\n",
            " [  28.7       7.59      4.64    823.69    217.833   133.168    57.6081\n",
            "    35.2176   21.5296]\n",
            " [  23.5       6.28      3.72    552.25    147.58     87.42     39.4384\n",
            "    23.3616   13.8384]\n",
            " [  39.       11.14      6.     1521.      434.46    234.      124.0996\n",
            "    66.84     36.    ]\n",
            " [  21.        5.69      3.56    441.      119.49     74.76     32.3761\n",
            "    20.2564   12.6736]\n",
            " [  23.        5.22      3.63    529.      120.06     83.49     27.2484\n",
            "    18.9486   13.1769]\n",
            " [  22.        5.52      4.      484.      121.44     88.       30.4704\n",
            "    22.08     16.    ]\n",
            " [  44.       12.49      7.6    1936.      549.56    334.4     156.0001\n",
            "    94.924    57.76  ]\n",
            " [  22.5       6.79      3.62    506.25    152.775    81.45     46.1041\n",
            "    24.5798   13.1044]\n",
            " [  19.        5.64      3.05    361.      107.16     57.95     31.8096\n",
            "    17.202     9.3025]\n",
            " [  37.       10.84      6.26   1369.      401.08    231.62    117.5056\n",
            "    67.8584   39.1876]\n",
            " [  22.        6.11      3.41    484.      134.42     75.02     37.3321\n",
            "    20.8351   11.6281]\n",
            " [  25.6       6.56      4.24    655.36    167.936   108.544    43.0336\n",
            "    27.8144   17.9776]\n",
            " [  42.       12.8       6.87   1764.      537.6     288.54    163.84\n",
            "    87.936    47.1969]\n",
            " [  34.5      10.26      6.39   1190.25    353.97    220.455   105.2676\n",
            "    65.5614   40.8321]]\n"
          ]
        }
      ]
    },
    {
      "cell_type": "code",
      "source": [
        "test_poly = poly.transform(test_input)\n",
        "print(test_poly.shape)\n",
        "#print(test_poly)"
      ],
      "metadata": {
        "colab": {
          "base_uri": "https://localhost:8080/"
        },
        "id": "awcALwTAHyZ5",
        "outputId": "afb58873-0dc5-4be5-f168-0c1e41ed0eb2"
      },
      "execution_count": 5,
      "outputs": [
        {
          "output_type": "stream",
          "name": "stdout",
          "text": [
            "(14, 9)\n"
          ]
        }
      ]
    },
    {
      "cell_type": "code",
      "source": [
        "from sklearn.linear_model import LinearRegression\n",
        "lr = LinearRegression()\n",
        "lr.fit(train_poly, train_target)\n",
        "print(lr.score(train_poly,train_target))\n",
        "print(lr.score(test_poly, test_target))"
      ],
      "metadata": {
        "colab": {
          "base_uri": "https://localhost:8080/"
        },
        "id": "zmaT7dkwIcwD",
        "outputId": "4af2bee4-24db-436a-c3b8-8b23ee2ae05e"
      },
      "execution_count": 6,
      "outputs": [
        {
          "output_type": "stream",
          "name": "stdout",
          "text": [
            "0.9903183436982125\n",
            "0.9714559911594111\n"
          ]
        }
      ]
    },
    {
      "cell_type": "code",
      "source": [
        "poly = PolynomialFeatures(degree=5, include_bias=False)\n",
        "poly.fit(train_input)\n",
        "train_poly = poly.transform(train_input)\n",
        "test_poly=poly.transform(test_input)\n",
        "print(train_poly.shape, test_poly.shape)\n",
        "#print(train_poly, test_poly)"
      ],
      "metadata": {
        "colab": {
          "base_uri": "https://localhost:8080/"
        },
        "id": "uhZThCxdJH3Q",
        "outputId": "de92a8c2-79df-441a-9ea5-3a209cb23328"
      },
      "execution_count": 7,
      "outputs": [
        {
          "output_type": "stream",
          "name": "stdout",
          "text": [
            "(42, 55) (14, 55)\n"
          ]
        }
      ]
    },
    {
      "cell_type": "code",
      "source": [
        "lr.fit(train_poly, train_target)\n",
        "print(lr.score(train_poly, train_target))\n",
        "print(lr.score(test_poly, test_target))"
      ],
      "metadata": {
        "colab": {
          "base_uri": "https://localhost:8080/"
        },
        "id": "PPwiSgB5JuV6",
        "outputId": "6088d775-7570-494c-d287-de6af02f8048"
      },
      "execution_count": 8,
      "outputs": [
        {
          "output_type": "stream",
          "name": "stdout",
          "text": [
            "0.9999999999996433\n",
            "-144.40579436844948\n"
          ]
        }
      ]
    },
    {
      "cell_type": "code",
      "source": [
        "from sklearn.preprocessing import StandardScaler\n",
        "ss=StandardScaler()\n",
        "ss.fit(train_poly)\n",
        "train_scaled = ss.transform(train_poly)\n",
        "test_scaled = ss.transform(test_poly)\n",
        "\n",
        "print(train_poly[:1])"
      ],
      "metadata": {
        "colab": {
          "base_uri": "https://localhost:8080/"
        },
        "id": "cb7VZ-GTLaW_",
        "outputId": "b56c8642-6f4c-45d3-fdce-003e45a3b5b9"
      },
      "execution_count": 9,
      "outputs": [
        {
          "output_type": "stream",
          "name": "stdout",
          "text": [
            "[[1.96000000e+01 5.14000000e+00 3.04000000e+00 3.84160000e+02\n",
            "  1.00744000e+02 5.95840000e+01 2.64196000e+01 1.56256000e+01\n",
            "  9.24160000e+00 7.52953600e+03 1.97458240e+03 1.16784640e+03\n",
            "  5.17824160e+02 3.06261760e+02 1.81135360e+02 1.35796744e+02\n",
            "  8.03155840e+01 4.75018240e+01 2.80944640e+01 1.47578906e+05\n",
            "  3.87018150e+04 2.28897894e+04 1.01493535e+04 6.00273050e+03\n",
            "  3.55025306e+03 2.66161618e+03 1.57418545e+03 9.31035750e+02\n",
            "  5.50651494e+02 6.97995264e+02 4.12822102e+02 2.44159375e+02\n",
            "  1.44405545e+02 8.54071706e+01 2.89254655e+06 7.58555575e+05\n",
            "  4.48639873e+05 1.98927329e+05 1.17653518e+05 6.95849599e+04\n",
            "  5.21676772e+04 3.08540347e+04 1.82483007e+04 1.07927693e+04\n",
            "  1.36807072e+04 8.09131319e+03 4.78552376e+03 2.83034868e+03\n",
            "  1.67398054e+03 3.58769566e+03 2.12190560e+03 1.25497919e+03\n",
            "  7.42244501e+02 4.38992857e+02 2.59637799e+02]]\n"
          ]
        }
      ]
    },
    {
      "cell_type": "code",
      "source": [
        "from sklearn.linear_model import Ridge  # Lasso = 0으로 수렴 시키는 규제 모듈\n",
        "ridge = Ridge()\n",
        "ridge.fit(train_scaled,train_target)\n",
        "\n",
        "print(ridge.score(train_scaled,train_target))\n",
        "print(ridge.score(test_scaled,test_target))"
      ],
      "metadata": {
        "colab": {
          "base_uri": "https://localhost:8080/"
        },
        "id": "seBz3krHNlS-",
        "outputId": "8ce627b7-4d64-4913-8d5e-82888d25d177"
      },
      "execution_count": 10,
      "outputs": [
        {
          "output_type": "stream",
          "name": "stdout",
          "text": [
            "0.9896101671037343\n",
            "0.9790693977615387\n"
          ]
        }
      ]
    }
  ]
}